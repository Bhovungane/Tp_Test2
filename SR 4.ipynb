{
 "cells": [
  {
   "cell_type": "code",
   "execution_count": 3,
   "id": "c3bfa473-29dd-4080-9682-d04b5974f57b",
   "metadata": {},
   "outputs": [],
   "source": [
    "import pandas as pd\n",
    "import matplotlib.pyplot as plt\n",
    "import seaborn as sns\n",
    "\n",
    "df = pd.read_csv(r\"C:\\Users\\27797\\Desktop\\TP2_Test2\\Informal_Settlement_Programme_-1898186875815614491.csv\")"
   ]
  },
  {
   "cell_type": "code",
   "execution_count": 4,
   "id": "ba031cd5-32a0-45d2-853e-6f615ed69638",
   "metadata": {},
   "outputs": [
    {
     "name": "stdout",
     "output_type": "stream",
     "text": [
      "Sorted EST_HHC (ascending): [4, 4, 4, 5, 5, 5, 8, 8, 8, 10, 10, 11, 11, 12, 12, 12, 12, 13, 13, 13, 14, 14, 14, 15, 15, 16, 16, 16, 16, 16, 17, 18, 18, 19, 19, 20, 21, 21, 21, 21, 22, 22, 23, 23, 23, 23, 23, 23, 24, 24, 24, 24, 24, 25, 25, 25, 26, 26, 27, 27, 27, 27, 28, 28, 28, 28, 28, 29, 29, 29, 29, 29, 30, 30, 30, 31, 31, 31, 31, 31, 32, 33, 33, 33, 34, 34, 34, 35, 35, 35, 35, 35, 35, 35, 35, 36, 36, 37, 37, 39, 39, 40, 40, 40, 41, 41, 42, 42, 42, 43, 43, 44, 45, 46, 46, 46, 46, 46, 46, 47, 48, 48, 48, 49, 49, 49, 50, 50, 50, 51, 51, 52, 52, 53, 53, 54, 54, 54, 55, 55, 56, 56, 57, 57, 57, 57, 57, 57, 58, 59, 60, 60, 60, 60, 60, 61, 61, 61, 61, 62, 63, 63, 63, 64, 64, 65, 65, 65, 66, 67, 67, 67, 68, 68, 70, 70, 70, 72, 72, 72, 74, 74, 74, 75, 76, 77, 77, 79, 79, 79, 80, 80, 80, 81, 81, 82, 84, 84, 84, 85, 86, 86, 87, 88, 89, 89, 90, 92, 93, 93, 94, 97, 98, 99, 100, 100, 101, 102, 103, 104, 106, 106, 107, 107, 111, 111, 112, 115, 115, 115, 116, 116, 117, 117, 117, 119, 119, 121, 122, 122, 123, 126, 127, 128, 130, 130, 131, 134, 137, 137, 138, 138, 138, 139, 140, 141, 142, 142, 143, 143, 144, 150, 152, 153, 154, 157, 158, 159, 160, 160, 160, 162, 163, 163, 165, 166, 166, 167, 167, 173, 174, 175, 176, 178, 178, 179, 181, 183, 184, 185, 185, 185, 187, 187, 189, 190, 193, 194, 195, 195, 197, 199, 199, 200, 201, 202, 207, 207, 207, 212, 213, 215, 216, 216, 217, 218, 220, 222, 225, 231, 233, 233, 234, 235, 236, 238, 241, 242, 246, 247, 248, 248, 249, 250, 252, 254, 255, 257, 257, 258, 261, 262, 263, 264, 265, 266, 268, 268, 272, 273, 277, 279, 285, 291, 292, 294, 297, 299, 302, 304, 306, 306, 308, 309, 311, 312, 318, 321, 325, 337, 349, 351, 354, 358, 363, 363, 367, 370, 375, 376, 376, 379, 379, 381, 382, 385, 389, 394, 394, 395, 397, 402, 407, 414, 416, 420, 439, 449, 450, 450, 452, 461, 471, 476, 488, 490, 504, 515, 520, 524, 539, 551, 552, 556, 564, 565, 565, 570, 573, 577, 586, 590, 594, 603, 610, 622, 626, 627, 637, 640, 642, 643, 646, 647, 652, 657, 664, 665, 673, 673, 680, 680, 681, 684, 689, 691, 700, 720, 739, 746, 755, 758, 770, 771, 795, 800, 807, 810, 813, 833, 843, 862, 877, 879, 882, 885, 905, 922, 932, 936, 938, 956, 958, 959, 976, 996, 1000, 1008, 1015, 1028, 1031, 1032, 1034, 1049, 1055, 1057, 1128, 1142, 1154, 1169, 1169, 1177, 1207, 1222, 1227, 1236, 1240, 1262, 1263, 1264, 1265, 1279, 1284, 1294, 1311, 1329, 1380, 1384, 1398, 1398, 1401, 1404, 1436, 1445, 1483, 1492, 1508, 1520, 1550, 1558, 1563, 1636, 1653, 1655, 1686, 1687, 1712, 1725, 1772, 1906, 1914, 1915, 1944, 1951, 1967, 2031, 2034, 2060, 2081, 2085, 2136, 2293, 2307, 2353, 2375, 2388, 2491, 2583, 2626, 2664, 2978, 3250, 3323, 3412, 3561, 3677, 3731, 3830, 3996, 4058, 4332, 4581, 5385, 7206, 9388, 10011]\n"
     ]
    }
   ],
   "source": [
    "def bubble_sort(arr):\n",
    "    n = len(arr)\n",
    "    for i in range(n - 1):\n",
    "        for j in range(0, n - i - 1):\n",
    "            if arr[j] > arr[j + 1]:\n",
    "                arr[j], arr[j + 1] = arr[j + 1], arr[j]\n",
    "\n",
    "# Example usage with 'EST_HHC' column\n",
    "est_hhc_column = df['EST_HHC'].tolist()  # Extract 'EST_HHC' column from DataFrame\n",
    "bubble_sort(est_hhc_column)\n",
    "print(\"Sorted EST_HHC (ascending):\", est_hhc_column)\n"
   ]
  },
  {
   "cell_type": "code",
   "execution_count": 5,
   "id": "4d333e3b-5d6f-450b-abf1-18634ff3b12a",
   "metadata": {},
   "outputs": [
    {
     "name": "stdout",
     "output_type": "stream",
     "text": [
      "Linear Search: Element not found\n",
      "Binary Search: Element not found\n"
     ]
    }
   ],
   "source": [
    "# Linear Search\n",
    "def linear_search(arr, target):\n",
    "    for i in range(len(arr)):\n",
    "        if arr[i] == target:\n",
    "            return i\n",
    "    return -1  # Element not found\n",
    "\n",
    "# Binary Search (Assuming 'arr' is sorted)\n",
    "def binary_search(arr, target):\n",
    "    low, high = 0, len(arr) - 1\n",
    "    while low <= high:\n",
    "        mid = (low + high) // 2\n",
    "        if arr[mid] == target:\n",
    "            return mid\n",
    "        elif arr[mid] < target:\n",
    "            low = mid + 1\n",
    "        else:\n",
    "            high = mid - 1\n",
    "    return -1  # Element not found\n",
    "\n",
    "# Example usage with 'EST_HHC' column\n",
    "est_hhc_column = sorted(df['EST_HHC'].tolist())  # Sort 'EST_HHC' column\n",
    "target = 500  # Example target value\n",
    "\n",
    "# Perform linear search\n",
    "linear_result = linear_search(est_hhc_column, target)\n",
    "if linear_result != -1:\n",
    "    print(f\"Linear Search: Found at index {linear_result}\")\n",
    "else:\n",
    "    print(\"Linear Search: Element not found\")\n",
    "\n",
    "# Perform binary search\n",
    "binary_result = binary_search(est_hhc_column, target)\n",
    "if binary_result != -1:\n",
    "    print(f\"Binary Search: Found at index {binary_result}\")\n",
    "else:\n",
    "    print(\"Binary Search: Element not found\")"
   ]
  },
  {
   "cell_type": "code",
   "execution_count": null,
   "id": "e509b392-1c8c-4f34-bfa3-745e95854ee0",
   "metadata": {},
   "outputs": [],
   "source": []
  }
 ],
 "metadata": {
  "kernelspec": {
   "display_name": "Python 3 (ipykernel)",
   "language": "python",
   "name": "python3"
  },
  "language_info": {
   "codemirror_mode": {
    "name": "ipython",
    "version": 3
   },
   "file_extension": ".py",
   "mimetype": "text/x-python",
   "name": "python",
   "nbconvert_exporter": "python",
   "pygments_lexer": "ipython3",
   "version": "3.12.2"
  }
 },
 "nbformat": 4,
 "nbformat_minor": 5
}
