{
 "cells": [
  {
   "cell_type": "code",
   "execution_count": 2,
   "id": "5a4136dd-e81a-41e1-92ea-3e3675dc154d",
   "metadata": {},
   "outputs": [],
   "source": [
    "import pandas as pd"
   ]
  },
  {
   "cell_type": "code",
   "execution_count": 3,
   "id": "69b5954a-bb35-49b8-b2e2-08cb3822049d",
   "metadata": {},
   "outputs": [],
   "source": [
    "df = pd.read_csv(r\"C:\\Users\\27797\\Desktop\\TP2_Test2\\Informal_Settlement_Programme_-1898186875815614491.csv\")"
   ]
  },
  {
   "cell_type": "code",
   "execution_count": 4,
   "id": "477e787d-e19b-4522-8aba-6b2fc213afbc",
   "metadata": {},
   "outputs": [
    {
     "name": "stdout",
     "output_type": "stream",
     "text": [
      "Index(['OBJECTID', 'NAME_OF_SE', 'ALT_NAME', 'STREETNAME', 'WARD_S',\n",
      "       'PLANNING_U', 'LATITUDE', 'LONGITUDE', 'REGION', 'WATER_SUPP',\n",
      "       'SANITATION', 'REFUSE', 'ELECTRIC_2', 'UNIREFCODE', 'EST_HHC',\n",
      "       'NUSP_CAT', 'Shape__Area', 'Shape__Length'],\n",
      "      dtype='object')\n"
     ]
    }
   ],
   "source": [
    "print(df.columns)"
   ]
  },
  {
   "cell_type": "markdown",
   "id": "0457d21f-6f4e-48ed-99e6-4c595acc39de",
   "metadata": {},
   "source": [
    "This dataset is suitable for analysis and i took it from website\n",
    "#Data Completeness#\n",
    "\n",
    "The dataset includes multiple columns that cover various aspects of informal settlements, such as population density, access to services, and housing conditions.\n",
    "The data is comprehensive, offering a detailed snapshot of the living conditions within Nairobi's informal settlements.\n",
    "\n",
    "#Relevance#\n",
    "\n",
    "Population Density: This column provides information on the number of people living in a given area, which is crucial for understanding the extent and impact of informal settlements.\n",
    "Access to Services: This column includes data on the availability of essential services such as water, sanitation, and electricity, which are key indicators of the living standards and challenges faced by residents of informal settlements.\n",
    "These columns are directly relevant to the theme of informal settlements, as they address critical aspects of life within these communities.\n",
    "    \n",
    "#Credibility of the Source#\n",
    "\n",
    "The dataset is provided by the Humanitarian Data Exchange (HDX), a reputable platform managed by the United Nations OCHA, ensuring the reliability and credibility of the data.\n",
    "The data has likely been collected "
   ]
  },
  {
   "cell_type": "code",
   "execution_count": null,
   "id": "509fd73b-a095-4172-8a17-e90dcfe15baa",
   "metadata": {},
   "outputs": [],
   "source": []
  }
 ],
 "metadata": {
  "kernelspec": {
   "display_name": "Python 3 (ipykernel)",
   "language": "python",
   "name": "python3"
  },
  "language_info": {
   "codemirror_mode": {
    "name": "ipython",
    "version": 3
   },
   "file_extension": ".py",
   "mimetype": "text/x-python",
   "name": "python",
   "nbconvert_exporter": "python",
   "pygments_lexer": "ipython3",
   "version": "3.12.2"
  }
 },
 "nbformat": 4,
 "nbformat_minor": 5
}
