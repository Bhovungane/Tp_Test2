{
 "cells": [
  {
   "cell_type": "code",
   "execution_count": 24,
   "id": "1d93b4f8-0deb-4542-a5d1-775d05cb8927",
   "metadata": {},
   "outputs": [],
   "source": [
    "import pandas as pd"
   ]
  },
  {
   "cell_type": "code",
   "execution_count": 25,
   "id": "c80b9c8b-62df-476b-8086-391fcb92223f",
   "metadata": {},
   "outputs": [],
   "source": [
    "df = pd.read_csv(r\"C:\\Users\\27797\\Desktop\\TP2_Test2\\Informal_Settlement_Programme_-1898186875815614491.csv\")"
   ]
  },
  {
   "cell_type": "code",
   "execution_count": 26,
   "id": "7a3a7bc2-8dba-4a7f-ad44-be550e1486c0",
   "metadata": {},
   "outputs": [
    {
     "name": "stdout",
     "output_type": "stream",
     "text": [
      "Index(['OBJECTID', 'NAME_OF_SE', 'ALT_NAME', 'STREETNAME', 'WARD_S',\n",
      "       'PLANNING_U', 'LATITUDE', 'LONGITUDE', 'REGION', 'WATER_SUPP',\n",
      "       'SANITATION', 'REFUSE', 'ELECTRIC_2', 'UNIREFCODE', 'EST_HHC',\n",
      "       'NUSP_CAT', 'Shape__Area', 'Shape__Length'],\n",
      "      dtype='object')\n"
     ]
    }
   ],
   "source": [
    "print(df.columns)"
   ]
  },
  {
   "cell_type": "code",
   "execution_count": 27,
   "id": "824c40d6-bae2-47fa-b9d5-ef33807468d4",
   "metadata": {},
   "outputs": [
    {
     "name": "stdout",
     "output_type": "stream",
     "text": [
      "   OBJECTID     NAME_OF_SE       ALT_NAME  \\\n",
      "0         1       Amatikwe                  \n",
      "1         2  Congo Phase 2  Congo Phase 2   \n",
      "2         3  Africa Inanda         Africa   \n",
      "3         4        Namibia                  \n",
      "4         5     Mshayazafe                  \n",
      "\n",
      "                               STREETNAME  WARD_S  \\\n",
      "0                              MR93 North  56/108   \n",
      "1                        MR93 /MR93 North   55/57   \n",
      "2                  Curnick Ndlovu Highway      55   \n",
      "3  Curnick Ndlovu Highway / Matshana Road  108/44   \n",
      "4                            Sidudla Road      55   \n",
      "\n",
      "                      PLANNING_U           LATITUDE         LONGITUDE  \\\n",
      "0                       Amatikwe  -29,6847594568261  30,9331993743659   \n",
      "1                   Inanda Congo  -29,6930565996813  30,9524428875002   \n",
      "2        Ohlange-Africa / Stop 8   -29,700492743755  30,9486579023242   \n",
      "3                 Inanda Namibia   -29,703771886581  30,9335017254606   \n",
      "4  Mshayazafe / Ohlange - Africa  -29,7066784039778  30,9469610275001   \n",
      "\n",
      "     REGION                           WATER_SUPP  \\\n",
      "0  Northern                           Standpipes   \n",
      "1  Northern                           Standpipes   \n",
      "2  Northern  Ablution Facility Taps & Standpipes   \n",
      "3  Northern  Ablution Facility Taps & Standpipes   \n",
      "4  Northern                           Standpipes   \n",
      "\n",
      "                        SANITATION           REFUSE ELECTRIC_2 UNIREFCODE  \\\n",
      "0                      Pit Privies  C&SW contractor        Yes      I0005   \n",
      "1  Ablution Facility & Pit Privies  C&SW contractor        Yes      I0037   \n",
      "2                Ablution Facility  C&SW contractor        Yes      I0002   \n",
      "3                Ablution Facility  C&SW contractor        Yes      I0145   \n",
      "4                      Pit Privies  C&SW contractor        Yes      I0140   \n",
      "\n",
      "   EST_HHC NUSP_CAT   Shape__Area  Shape__Length  \n",
      "0     3250       B1  2.393433e+06   22801.689196  \n",
      "1      758       B1  2.894931e+05    4460.071000  \n",
      "2      627       B1  2.831338e+05    2289.974147  \n",
      "3     1508       B1  6.782034e+05    3987.698818  \n",
      "4      349       B1  1.393780e+05    1965.577993  \n"
     ]
    }
   ],
   "source": [
    "print(df.head())"
   ]
  },
  {
   "cell_type": "code",
   "execution_count": 28,
   "id": "fcad4565-8f8e-4830-92e4-782e91eda68f",
   "metadata": {},
   "outputs": [
    {
     "name": "stdout",
     "output_type": "stream",
     "text": [
      "\n",
      "Shape of the dataset:\n",
      "(566, 18)\n"
     ]
    }
   ],
   "source": [
    "# Print the shape of the dataset (number of rows and columns)\n",
    "print(\"\\nShape of the dataset:\")\n",
    "print(df.shape)"
   ]
  },
  {
   "cell_type": "code",
   "execution_count": 29,
   "id": "1df52c30-38ed-4615-90bc-96f313e19dab",
   "metadata": {},
   "outputs": [
    {
     "name": "stdout",
     "output_type": "stream",
     "text": [
      "\n",
      "Summary of the dataset:\n",
      "        OBJECTID NAME_OF_SE ALT_NAME            STREETNAME WARD_S PLANNING_U  \\\n",
      "count   566.0000        566      562                   566    566        566   \n",
      "unique       NaN        566      250                   503    152        230   \n",
      "top          NaN   Amatikwe           District Road No.403     83   Clermont   \n",
      "freq         NaN          1      305                     8     28         18   \n",
      "mean    283.5000        NaN      NaN                   NaN    NaN        NaN   \n",
      "std     163.5344        NaN      NaN                   NaN    NaN        NaN   \n",
      "min       1.0000        NaN      NaN                   NaN    NaN        NaN   \n",
      "25%     142.2500        NaN      NaN                   NaN    NaN        NaN   \n",
      "50%     283.5000        NaN      NaN                   NaN    NaN        NaN   \n",
      "75%     424.7500        NaN      NaN                   NaN    NaN        NaN   \n",
      "max     566.0000        NaN      NaN                   NaN    NaN        NaN   \n",
      "\n",
      "                 LATITUDE         LONGITUDE    REGION WATER_SUPP  \\\n",
      "count                 566               566       566        566   \n",
      "unique                561               561         3         49   \n",
      "top     -29,9026105096045  30,8352867394588  Southern        TBC   \n",
      "freq                    3                 3       273        137   \n",
      "mean                  NaN               NaN       NaN        NaN   \n",
      "std                   NaN               NaN       NaN        NaN   \n",
      "min                   NaN               NaN       NaN        NaN   \n",
      "25%                   NaN               NaN       NaN        NaN   \n",
      "50%                   NaN               NaN       NaN        NaN   \n",
      "75%                   NaN               NaN       NaN        NaN   \n",
      "max                   NaN               NaN       NaN        NaN   \n",
      "\n",
      "               SANITATION           REFUSE ELECTRIC_2 UNIREFCODE  \\\n",
      "count                 566              566        566        566   \n",
      "unique                 29                2         15        561   \n",
      "top     Ablution Facility  C&SW contractor        Yes      I0159   \n",
      "freq                  217              562        329          3   \n",
      "mean                  NaN              NaN        NaN        NaN   \n",
      "std                   NaN              NaN        NaN        NaN   \n",
      "min                   NaN              NaN        NaN        NaN   \n",
      "25%                   NaN              NaN        NaN        NaN   \n",
      "50%                   NaN              NaN        NaN        NaN   \n",
      "75%                   NaN              NaN        NaN        NaN   \n",
      "max                   NaN              NaN        NaN        NaN   \n",
      "\n",
      "             EST_HHC NUSP_CAT   Shape__Area  Shape__Length  \n",
      "count     566.000000      566  5.660000e+02     566.000000  \n",
      "unique           NaN       10           NaN            NaN  \n",
      "top              NaN       B1           NaN            NaN  \n",
      "freq             NaN      348           NaN            NaN  \n",
      "mean      525.971731      NaN  1.770229e+05    2347.667073  \n",
      "std       968.844647      NaN  4.949141e+05    2973.644491  \n",
      "min         4.000000      NaN  1.195089e+02      79.929137  \n",
      "25%        56.250000      NaN  5.714704e+03     521.062682  \n",
      "50%       177.000000      NaN  2.194467e+04    1168.496511  \n",
      "75%       608.250000      NaN  9.635537e+04    2891.325711  \n",
      "max     10011.000000      NaN  6.560964e+06   22801.689196  \n"
     ]
    }
   ],
   "source": [
    "#Print a summary of the dataset#\n",
    "print(\"\\nSummary of the dataset:\")\n",
    "print(df.describe(include='all'))"
   ]
  },
  {
   "cell_type": "code",
   "execution_count": 30,
   "id": "e7ceec5a-dcd9-42c7-9a86-c7554307fc96",
   "metadata": {},
   "outputs": [
    {
     "name": "stdout",
     "output_type": "stream",
     "text": [
      "\n",
      "Column names:\n",
      "Index(['OBJECTID', 'NAME_OF_SE', 'ALT_NAME', 'STREETNAME', 'WARD_S',\n",
      "       'PLANNING_U', 'LATITUDE', 'LONGITUDE', 'REGION', 'WATER_SUPP',\n",
      "       'SANITATION', 'REFUSE', 'ELECTRIC_2', 'UNIREFCODE', 'EST_HHC',\n",
      "       'NUSP_CAT', 'Shape__Area', 'Shape__Length'],\n",
      "      dtype='object')\n"
     ]
    }
   ],
   "source": [
    "# Print the column names\n",
    "print(\"\\nColumn names:\")\n",
    "print(df.columns)"
   ]
  },
  {
   "cell_type": "code",
   "execution_count": 31,
   "id": "fd2cb951-34d0-4aae-8aef-11b31c31d2ff",
   "metadata": {},
   "outputs": [
    {
     "name": "stdout",
     "output_type": "stream",
     "text": [
      "\n",
      "Missing data in each column:\n",
      "OBJECTID         0\n",
      "NAME_OF_SE       0\n",
      "ALT_NAME         4\n",
      "STREETNAME       0\n",
      "WARD_S           0\n",
      "PLANNING_U       0\n",
      "LATITUDE         0\n",
      "LONGITUDE        0\n",
      "REGION           0\n",
      "WATER_SUPP       0\n",
      "SANITATION       0\n",
      "REFUSE           0\n",
      "ELECTRIC_2       0\n",
      "UNIREFCODE       0\n",
      "EST_HHC          0\n",
      "NUSP_CAT         0\n",
      "Shape__Area      0\n",
      "Shape__Length    0\n",
      "dtype: int64\n"
     ]
    }
   ],
   "source": [
    "# Identifying missing data#\n",
    "print(\"\\nMissing data in each column:\")\n",
    "print(df.isnull().sum())"
   ]
  },
  {
   "cell_type": "code",
   "execution_count": 32,
   "id": "e46011a5-46e3-4d5d-aa3c-4d9a4e6d4ba3",
   "metadata": {},
   "outputs": [],
   "source": [
    "from sklearn.preprocessing import MinMaxScaler"
   ]
  },
  {
   "cell_type": "code",
   "execution_count": 33,
   "id": "d4102294-8544-455c-ae34-302cbd588789",
   "metadata": {},
   "outputs": [
    {
     "name": "stdout",
     "output_type": "stream",
     "text": [
      "\n",
      "First few rows of the dataset after normalization:\n",
      "   OBJECTID     NAME_OF_SE       ALT_NAME  \\\n",
      "0         1       Amatikwe                  \n",
      "1         2  Congo Phase 2  Congo Phase 2   \n",
      "2         3  Africa Inanda         Africa   \n",
      "3         4        Namibia                  \n",
      "4         5     Mshayazafe                  \n",
      "\n",
      "                               STREETNAME  WARD_S  \\\n",
      "0                              MR93 North  56/108   \n",
      "1                        MR93 /MR93 North   55/57   \n",
      "2                  Curnick Ndlovu Highway      55   \n",
      "3  Curnick Ndlovu Highway / Matshana Road  108/44   \n",
      "4                            Sidudla Road      55   \n",
      "\n",
      "                      PLANNING_U  LATITUDE  LONGITUDE    REGION  \\\n",
      "0                       Amatikwe  0.768286   0.587262  Northern   \n",
      "1                   Inanda Congo  0.756247   0.619781  Northern   \n",
      "2        Ohlange-Africa / Stop 8  0.745458   0.613385  Northern   \n",
      "3                 Inanda Namibia  0.740700   0.587773  Northern   \n",
      "4  Mshayazafe / Ohlange - Africa  0.736482   0.610517  Northern   \n",
      "\n",
      "                            WATER_SUPP                       SANITATION  \\\n",
      "0                           Standpipes                      Pit Privies   \n",
      "1                           Standpipes  Ablution Facility & Pit Privies   \n",
      "2  Ablution Facility Taps & Standpipes                Ablution Facility   \n",
      "3  Ablution Facility Taps & Standpipes                Ablution Facility   \n",
      "4                           Standpipes                      Pit Privies   \n",
      "\n",
      "            REFUSE ELECTRIC_2 UNIREFCODE  EST_HHC NUSP_CAT   Shape__Area  \\\n",
      "0  C&SW contractor        Yes      I0005     3250       B1  2.393433e+06   \n",
      "1  C&SW contractor        Yes      I0037      758       B1  2.894931e+05   \n",
      "2  C&SW contractor        Yes      I0002      627       B1  2.831338e+05   \n",
      "3  C&SW contractor        Yes      I0145     1508       B1  6.782034e+05   \n",
      "4  C&SW contractor        Yes      I0140      349       B1  1.393780e+05   \n",
      "\n",
      "   Shape__Length  \n",
      "0   22801.689196  \n",
      "1    4460.071000  \n",
      "2    2289.974147  \n",
      "3    3987.698818  \n",
      "4    1965.577993  \n"
     ]
    }
   ],
   "source": [
    "# Ensure LATITUDE and LONGITUDE columns are strings before replacing commas and converting to float\n",
    "df['LATITUDE'] = df['LATITUDE'].astype(str).str.replace(',', '.').astype(float)\n",
    "df['LONGITUDE'] = df['LONGITUDE'].astype(str).str.replace(',', '.').astype(float)\n",
    "\n",
    "# Normalize 'LATITUDE' and 'LONGITUDE' columns\n",
    "scaler = MinMaxScaler()\n",
    "df[['LATITUDE', 'LONGITUDE']] = scaler.fit_transform(df[['LATITUDE', 'LONGITUDE']])\n",
    "\n",
    "print(\"\\nFirst few rows of the dataset after normalization:\")\n",
    "print(df.head())\n"
   ]
  },
  {
   "cell_type": "code",
   "execution_count": null,
   "id": "4f5504aa-e7c1-4b72-b16b-0c2bca79ae54",
   "metadata": {},
   "outputs": [],
   "source": []
  }
 ],
 "metadata": {
  "kernelspec": {
   "display_name": "Python 3 (ipykernel)",
   "language": "python",
   "name": "python3"
  },
  "language_info": {
   "codemirror_mode": {
    "name": "ipython",
    "version": 3
   },
   "file_extension": ".py",
   "mimetype": "text/x-python",
   "name": "python",
   "nbconvert_exporter": "python",
   "pygments_lexer": "ipython3",
   "version": "3.12.2"
  }
 },
 "nbformat": 4,
 "nbformat_minor": 5
}
